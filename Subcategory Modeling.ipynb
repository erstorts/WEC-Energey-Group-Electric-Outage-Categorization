{
 "cells": [
  {
   "cell_type": "code",
   "execution_count": 7,
   "metadata": {},
   "outputs": [],
   "source": [
    "#general\n",
    "import datetime\n",
    "import pandas as pd\n",
    "import numpy as np\n",
    "import os\n",
    "import re\n",
    "import scipy\n",
    "from sklearn.model_selection import train_test_split\n",
    "from sklearn.feature_extraction.text import CountVectorizer, TfidfVectorizer\n",
    "#AWS\n",
    "import boto3\n",
    "import sagemaker\n",
    "from sagemaker import get_execution_role\n",
    "from sagemaker.tuner import HyperparameterTuner, ContinuousParameter, IntegerParameter, CategoricalParameter\n",
    "from sagemaker.estimator import Estimator\n",
    "from sagemaker.model import Model\n",
    "from sklearn.model_selection import train_test_split\n",
    "from sklearn.metrics import confusion_matrix, accuracy_score, f1_score, recall_score, precision_score, fbeta_score\n",
    "from sklearn.linear_model import SGDClassifier\n",
    "from sklearn.linear_model import LogisticRegression\n",
    "import pickle"
   ]
  },
  {
   "cell_type": "code",
   "execution_count": 2,
   "metadata": {},
   "outputs": [
    {
     "name": "stdout",
     "output_type": "stream",
     "text": [
      "s3://distribution-reliability-nlp/modeling\n"
     ]
    }
   ],
   "source": [
    "#get information for later use\n",
    "#role\n",
    "role = get_execution_role()\n",
    "#session\n",
    "sess = sagemaker.Session()\n",
    "#sagemaker region\n",
    "region = sess.boto_session.region_name\n",
    "#account number\n",
    "account = sess.boto_session.client('sts').get_caller_identity()['Account']\n",
    "#s3 bucket name\n",
    "bucket = 'distribution-reliability-nlp'\n",
    "#create a sagemaker client object\n",
    "smclient = boto3.client(service_name='sagemaker')\n",
    "#model folder name\n",
    "model_location = 's3://{}/modeling'.format(bucket)\n",
    "print(model_location)"
   ]
  },
  {
   "cell_type": "code",
   "execution_count": 5,
   "metadata": {},
   "outputs": [
    {
     "data": {
      "text/html": [
       "<div>\n",
       "<style scoped>\n",
       "    .dataframe tbody tr th:only-of-type {\n",
       "        vertical-align: middle;\n",
       "    }\n",
       "\n",
       "    .dataframe tbody tr th {\n",
       "        vertical-align: top;\n",
       "    }\n",
       "\n",
       "    .dataframe thead th {\n",
       "        text-align: right;\n",
       "    }\n",
       "</style>\n",
       "<table border=\"1\" class=\"dataframe\">\n",
       "  <thead>\n",
       "    <tr style=\"text-align: right;\">\n",
       "      <th></th>\n",
       "      <th>outage category</th>\n",
       "      <th>outage subcategory</th>\n",
       "      <th>Mobile Data Remarks</th>\n",
       "    </tr>\n",
       "  </thead>\n",
       "  <tbody>\n",
       "    <tr>\n",
       "      <th>0</th>\n",
       "      <td>Equipment</td>\n",
       "      <td>NaN</td>\n",
       "      <td>ON LtOut TRBL SAYS {OTHER SEE COMMENTS}</td>\n",
       "    </tr>\n",
       "    <tr>\n",
       "      <th>1</th>\n",
       "      <td>Equipment</td>\n",
       "      <td>Conductor/Cable</td>\n",
       "      <td>ON LtOut TRBL SAYS {ONE LEG OF URD IS DEAD. CU...</td>\n",
       "    </tr>\n",
       "    <tr>\n",
       "      <th>2</th>\n",
       "      <td>Vegetation</td>\n",
       "      <td>Out Clearance Zone (ROW)</td>\n",
       "      <td>ON HAZ TRBL SAYS {REMOVED TREE FROM LINE NEARP...</td>\n",
       "    </tr>\n",
       "    <tr>\n",
       "      <th>3</th>\n",
       "      <td>Equipment</td>\n",
       "      <td>Conductor/Cable</td>\n",
       "      <td>ON LtOut TRBL SAYS {REPAIRED BAD PRIMARY URD C...</td>\n",
       "    </tr>\n",
       "    <tr>\n",
       "      <th>4</th>\n",
       "      <td>Equipment</td>\n",
       "      <td>NaN</td>\n",
       "      <td>ON LtOut TRBL SAYS {BAD CONNECTOR ON CUST. SER...</td>\n",
       "    </tr>\n",
       "  </tbody>\n",
       "</table>\n",
       "</div>"
      ],
      "text/plain": [
       "  outage category        outage subcategory  \\\n",
       "0       Equipment                       NaN   \n",
       "1       Equipment           Conductor/Cable   \n",
       "2      Vegetation  Out Clearance Zone (ROW)   \n",
       "3       Equipment           Conductor/Cable   \n",
       "4       Equipment                       NaN   \n",
       "\n",
       "                                 Mobile Data Remarks  \n",
       "0            ON LtOut TRBL SAYS {OTHER SEE COMMENTS}  \n",
       "1  ON LtOut TRBL SAYS {ONE LEG OF URD IS DEAD. CU...  \n",
       "2  ON HAZ TRBL SAYS {REMOVED TREE FROM LINE NEARP...  \n",
       "3  ON LtOut TRBL SAYS {REPAIRED BAD PRIMARY URD C...  \n",
       "4  ON LtOut TRBL SAYS {BAD CONNECTOR ON CUST. SER...  "
      ]
     },
     "execution_count": 5,
     "metadata": {},
     "output_type": "execute_result"
    }
   ],
   "source": [
    "#import text data\n",
    "outage = pd.read_csv('We-WPS-Comments.csv')\n",
    "outage.head()"
   ]
  },
  {
   "cell_type": "code",
   "execution_count": 9,
   "metadata": {},
   "outputs": [],
   "source": [
    "def clean_comments(text):\n",
    "    '''\n",
    "    This function will remove the common text before the comments\n",
    "    '''\n",
    "    pattern_1 = r\"ON LtOut WE\\d{4,5} SAYS\\s\"\n",
    "    regex_1 = re.sub(pattern_1, '', text)\n",
    "    pattern_2 = r\"ON LtOut TRBL SAYS\"\n",
    "    regex_2 = re.sub(pattern_2, '', regex_1)\n",
    "    pattern_3 = r\"ON HAZ TRBL SAYS\"\n",
    "    regex_3 = re.sub(pattern_3, '', regex_2)\n",
    "    new_text = regex_3.replace('@', 'at')\n",
    "    pattern_4 = r\"[^a-zA-Z0-9]+\"\n",
    "    return re.sub(pattern_4, ' ', new_text)\n",
    "\n",
    "outage['Mobile Data Remarks'] = outage['Mobile Data Remarks'].map(str)\n",
    "outage['Mobile Data Remarks'] = outage['Mobile Data Remarks'].apply(clean_comments)"
   ]
  },
  {
   "cell_type": "code",
   "execution_count": 10,
   "metadata": {},
   "outputs": [],
   "source": [
    "#remove unknowns and not reporteable\n",
    "outage = outage[outage['outage category'] != 'Unknown']\n",
    "outage = outage[outage['outage category'] != 'Not Reportable']"
   ]
  },
  {
   "cell_type": "code",
   "execution_count": 46,
   "metadata": {},
   "outputs": [],
   "source": [
    "outage_cats = ['Equipment', 'Vegetation', 'Public', 'Wildlife', 'Weather', \n",
    "               'Other', 'Power Supply', 'Planned']\n",
    "\n",
    "equip_outage = outage[outage['outage category'] == 'Equipment']\n",
    "veg_outage = outage[outage['outage category'] == 'Vegetation']\n",
    "pub_outage = outage[outage['outage category'] == 'Public']\n",
    "wild_outage = outage[outage['outage category'] == 'Wildlife']\n",
    "weather_outage = outage[outage['outage category'] == 'Weather']\n",
    "other_outage = outage[outage['outage category'] == 'Other']\n",
    "ps_outage = outage[outage['outage category'] == 'Power Supply']\n",
    "plan_outage = outage[outage['outage category'] == 'Planned']"
   ]
  },
  {
   "cell_type": "code",
   "execution_count": 47,
   "metadata": {},
   "outputs": [],
   "source": [
    "#convert target to numeric\n",
    "def get_sub_category(data, general_category):\n",
    "    data = data[['outage subcategory', 'Mobile Data Remarks']]\n",
    "\n",
    "    data = data.dropna()\n",
    "\n",
    "    sub_cats = data['outage subcategory'].unique()\n",
    "\n",
    "    with open(general_category + '.txt', 'w') as filehandle:\n",
    "        for listitem in sub_cats:\n",
    "            filehandle.write('%s\\n' % listitem)\n",
    "        \n",
    "    data['outage subcategory'] = pd.factorize(data['outage subcategory'])[0]\n",
    "\n",
    "    return data"
   ]
  },
  {
   "cell_type": "code",
   "execution_count": 76,
   "metadata": {},
   "outputs": [],
   "source": [
    "equip_outage_cleaned = get_sub_category(equip_outage, 'Equipment')\n",
    "veg_outage_cleaned = get_sub_category(veg_outage, 'Vegetation')\n",
    "pub_outag_cleaned = get_sub_category(pub_outage, 'Public')\n",
    "wild_outage_cleaned = get_sub_category(wild_outage, 'Wildlife')\n",
    "weather_outage_cleaned = get_sub_category(weather_outage, 'Weather')\n",
    "other_outage_cleaned = get_sub_category(other_outage, 'Other')\n",
    "ps_outage_cleaned = get_sub_category(ps_outage, 'Power Supply')\n",
    "plan_outage_cleaned = get_sub_category(plan_outage, 'Planned')"
   ]
  },
  {
   "cell_type": "code",
   "execution_count": 51,
   "metadata": {},
   "outputs": [],
   "source": [
    "#write to csv\n",
    "equip_outage_cleaned.to_csv('Equipment.csv', header=False, index=False)\n",
    "veg_outage_cleaned.to_csv('Vegetation.csv', header=False, index=False)\n",
    "pub_outag_cleaned.to_csv('Public.csv', header=False, index=False)\n",
    "wild_outage_cleaned.to_csv('Wildlife.csv', header=False, index=False)\n",
    "weather_outage_cleaned.to_csv('Weather.csv', header=False, index=False)\n",
    "other_outage_cleaned.to_csv('Other.csv', header=False, index=False)\n",
    "ps_outage_cleaned.to_csv('Power_Supply.csv', header=False, index=False)\n",
    "plan_outage_cleaned.to_csv('Planned.csv', header=False, index=False)"
   ]
  },
  {
   "cell_type": "code",
   "execution_count": 52,
   "metadata": {},
   "outputs": [],
   "source": [
    "equip_path = sess.upload_data(path='Equipment.csv', \n",
    "                                 bucket=bucket,\n",
    "                                 key_prefix='sagemaker/textdata')\n",
    "\n",
    "veg_path = sess.upload_data(path='Vegetation.csv', \n",
    "                                 bucket=bucket,\n",
    "                                 key_prefix='sagemaker/textdata')\n",
    "\n",
    "pub_path = sess.upload_data(path='Public.csv', \n",
    "                                 bucket=bucket,\n",
    "                                 key_prefix='sagemaker/textdata')\n",
    "\n",
    "wild_path = sess.upload_data(path='Wildlife.csv', \n",
    "                                 bucket=bucket,\n",
    "                                 key_prefix='sagemaker/textdata')\n",
    "\n",
    "weather_path = sess.upload_data(path='Weather.csv', \n",
    "                                 bucket=bucket,\n",
    "                                 key_prefix='sagemaker/textdata')\n",
    "\n",
    "other_path = sess.upload_data(path='Other.csv', \n",
    "                                 bucket=bucket,\n",
    "                                 key_prefix='sagemaker/textdata')\n",
    "\n",
    "ps_path = sess.upload_data(path='Power_Supply.csv', \n",
    "                                 bucket=bucket,\n",
    "                                 key_prefix='sagemaker/textdata')\n",
    "\n",
    "plan_path = sess.upload_data(path='Planned.csv', \n",
    "                                 bucket=bucket,\n",
    "                                 key_prefix='sagemaker/textdata')"
   ]
  },
  {
   "cell_type": "code",
   "execution_count": 54,
   "metadata": {},
   "outputs": [],
   "source": [
    "def start_hyper_tune(train_path, general_category):\n",
    "    algorithm_type = 'Classification'\n",
    "    algorithm_name = 'Logitstic Regression'\n",
    "    algorithm_name_type = 'sagemaker-logistic-regression'\n",
    "\n",
    "    #get docker image name in ECR\n",
    "    image = '{}.dkr.ecr.{}.amazonaws.com/{}:latest'.format(account, region, algorithm_name_type)\n",
    "\n",
    "    #update where the model will be stored\n",
    "    updated_model_location = model_location + '/' + algorithm_name\n",
    "\n",
    "    #create estimator with the image selected\n",
    "    est = Estimator(image_name=image,\n",
    "                     role=role, \n",
    "                     train_instance_count=1, \n",
    "                     train_instance_type ='ml.c5.18xlarge',\n",
    "                     output_path=updated_model_location,\n",
    "                     sagemaker_session=sess,\n",
    "                     subnets=['subnet-535e1629', 'subnet-28756740', 'subnet-2253e36e'],\n",
    "                     security_group_ids=['sg-3168f952'])\n",
    "\n",
    "    hyperparameter_ranges = {'C': ContinuousParameter(0.1, 1.0),\n",
    "                            'multi_class': CategoricalParameter(['multinomial', 'auto']),\n",
    "                            'solver': CategoricalParameter(['newton-cg', 'sag', 'saga', 'lbfgs']),\n",
    "                            'data_type': CategoricalParameter(['text', 'word'])}\n",
    "\n",
    "    metric_defs = [{'Name': 'Accuracy',\n",
    "                    'Regex': \"Accuracy: ([0-9.]+).*$\"}]\n",
    "\n",
    "    #make name for tuning job\n",
    "    tuning_name = 'LR-' + general_category\n",
    "\n",
    "    #set up hyperparamater turner\n",
    "    tuner = HyperparameterTuner(estimator=est,\n",
    "                                hyperparameter_ranges=hyperparameter_ranges,\n",
    "                                base_tuning_job_name=tuning_name,\n",
    "                                objective_type='Maximize',\n",
    "                                objective_metric_name='Accuracy',\n",
    "                                metric_definitions=metric_defs, \n",
    "                                max_jobs=15)\n",
    "\n",
    "\n",
    "    tuner.fit({'training': train_path}, wait=False)\n",
    "    \n",
    "    return print('Tuning Started')"
   ]
  },
  {
   "cell_type": "code",
   "execution_count": 37,
   "metadata": {},
   "outputs": [
    {
     "name": "stdout",
     "output_type": "stream",
     "text": [
      "Tuning Started\n"
     ]
    }
   ],
   "source": [
    "start_hyper_tune(equip_path, 'Equipment')"
   ]
  },
  {
   "cell_type": "code",
   "execution_count": 53,
   "metadata": {},
   "outputs": [
    {
     "name": "stdout",
     "output_type": "stream",
     "text": [
      "Tuning Started\n"
     ]
    }
   ],
   "source": [
    "start_hyper_tune(veg_path, 'Vegetation')"
   ]
  },
  {
   "cell_type": "code",
   "execution_count": 56,
   "metadata": {},
   "outputs": [
    {
     "name": "stdout",
     "output_type": "stream",
     "text": [
      "Tuning Started\n"
     ]
    }
   ],
   "source": [
    "start_hyper_tune(pub_path, 'Public')"
   ]
  },
  {
   "cell_type": "code",
   "execution_count": 57,
   "metadata": {},
   "outputs": [
    {
     "name": "stdout",
     "output_type": "stream",
     "text": [
      "Tuning Started\n"
     ]
    }
   ],
   "source": [
    "start_hyper_tune(wild_path, 'Wildlife')"
   ]
  },
  {
   "cell_type": "code",
   "execution_count": 58,
   "metadata": {},
   "outputs": [
    {
     "name": "stdout",
     "output_type": "stream",
     "text": [
      "Tuning Started\n"
     ]
    }
   ],
   "source": [
    "start_hyper_tune(weather_path, 'Weather')"
   ]
  },
  {
   "cell_type": "code",
   "execution_count": 60,
   "metadata": {
    "scrolled": true
   },
   "outputs": [
    {
     "name": "stdout",
     "output_type": "stream",
     "text": [
      "Tuning Started\n"
     ]
    }
   ],
   "source": [
    "start_hyper_tune(other_path, 'Other')"
   ]
  },
  {
   "cell_type": "code",
   "execution_count": 61,
   "metadata": {},
   "outputs": [
    {
     "name": "stdout",
     "output_type": "stream",
     "text": [
      "Tuning Started\n"
     ]
    }
   ],
   "source": [
    "start_hyper_tune(ps_path, 'Power-Supply')"
   ]
  },
  {
   "cell_type": "code",
   "execution_count": 62,
   "metadata": {},
   "outputs": [
    {
     "name": "stdout",
     "output_type": "stream",
     "text": [
      "Tuning Started\n"
     ]
    }
   ],
   "source": [
    "start_hyper_tune(plan_path, 'Planned')"
   ]
  },
  {
   "cell_type": "code",
   "execution_count": 69,
   "metadata": {},
   "outputs": [],
   "source": [
    "def get_hyper_prams(general_category):\n",
    "    if general_category == 'Equipment':\n",
    "        return {'C': 1.0,  'solver': 'saga'}\n",
    "    elif general_category == 'Vegetation':\n",
    "        return {'C': 0.9213044405167753, 'solver': 'newton-cg'}\n",
    "    elif general_category == 'Public':\n",
    "        return {'C': 0.8505176838173545, 'solver': 'saga'}\n",
    "    elif general_category == 'Wildlife':\n",
    "        return {'C': 0.16984521446826012, 'solver': 'newton-cg'}\n",
    "    elif general_category == 'Weather':\n",
    "        return {'C': 0.9907417422692157, 'solver': 'newton-cg'}\n",
    "    elif general_category == 'Other':\n",
    "        return {'C': 0.3550248362985299, 'solver': 'lbfgs'}\n",
    "    else:\n",
    "        return print('general category not supported')"
   ]
  },
  {
   "cell_type": "code",
   "execution_count": 66,
   "metadata": {},
   "outputs": [],
   "source": [
    "def retrain_model(data, general_category):\n",
    "    if general_category == 'Planned':\n",
    "        return 'New Construction'\n",
    "    elif general_category == 'Power Supply':\n",
    "        return 'Transmission'\n",
    "    else:\n",
    "        X_train, X_test, y_train, y_test = train_test_split(data['Mobile Data Remarks'],\n",
    "                                                            data['outage subcategory'],\n",
    "                                                            test_size=0.25, random_state=42)\n",
    "\n",
    "        #create count object\n",
    "        count_vectorizer = CountVectorizer(stop_words='english')\n",
    "\n",
    "        #Transform the training data using only the 'text' column values\n",
    "        X_train = count_vectorizer.fit_transform(X_train)\n",
    "\n",
    "        #Transform the test data using only the 'text' column values\n",
    "        X_test = count_vectorizer.transform(X_test)\n",
    "\n",
    "        pickle.dump(count_vectorizer, open(general_category + '-count-vectorizer.pkl', 'wb'))\n",
    "\n",
    "        logit_hyper = get_hyper_prams(general_category)\n",
    "\n",
    "        #train the logit\n",
    "        logit = LogisticRegression(C=float(logit_hyper['C']),\n",
    "                                solver=logit_hyper['solver'],\n",
    "                                max_iter=10000,\n",
    "                                multi_class='multinomial')\n",
    "\n",
    "        logit = logit.fit(X_train, y_train)\n",
    "\n",
    "        pickle.dump(logit, open(general_category +'-model.pkl', 'wb'))\n",
    "\n",
    "        y_pred = logit.predict(X_test)\n",
    "\n",
    "        return print('Accuracy: ' + str(accuracy_score(y_test, y_pred)))"
   ]
  },
  {
   "cell_type": "code",
   "execution_count": 67,
   "metadata": {},
   "outputs": [
    {
     "name": "stdout",
     "output_type": "stream",
     "text": [
      "Accuracy: 0.9063403781979977\n"
     ]
    }
   ],
   "source": [
    "retrain_model(equip_outage_cleaned, 'Equipment')"
   ]
  },
  {
   "cell_type": "code",
   "execution_count": 68,
   "metadata": {},
   "outputs": [
    {
     "name": "stdout",
     "output_type": "stream",
     "text": [
      "Accuracy: 0.8295033996040967\n"
     ]
    }
   ],
   "source": [
    "retrain_model(veg_outage_cleaned, 'Vegetation')"
   ]
  },
  {
   "cell_type": "code",
   "execution_count": 70,
   "metadata": {},
   "outputs": [
    {
     "name": "stdout",
     "output_type": "stream",
     "text": [
      "Accuracy: 0.8800847457627119\n"
     ]
    }
   ],
   "source": [
    "retrain_model(pub_outag_cleaned, 'Public')"
   ]
  },
  {
   "cell_type": "code",
   "execution_count": 71,
   "metadata": {},
   "outputs": [
    {
     "name": "stdout",
     "output_type": "stream",
     "text": [
      "Accuracy: 0.9075661572866195\n"
     ]
    }
   ],
   "source": [
    "retrain_model(wild_outage_cleaned, 'Wildlife')"
   ]
  },
  {
   "cell_type": "code",
   "execution_count": 72,
   "metadata": {},
   "outputs": [
    {
     "name": "stdout",
     "output_type": "stream",
     "text": [
      "Accuracy: 0.7685325264750378\n"
     ]
    }
   ],
   "source": [
    "retrain_model(weather_outage_cleaned, 'Weather')"
   ]
  },
  {
   "cell_type": "code",
   "execution_count": 73,
   "metadata": {},
   "outputs": [
    {
     "name": "stdout",
     "output_type": "stream",
     "text": [
      "Accuracy: 0.8755186721991701\n"
     ]
    }
   ],
   "source": [
    "retrain_model(other_outage_cleaned, 'Other')"
   ]
  },
  {
   "cell_type": "code",
   "execution_count": 74,
   "metadata": {},
   "outputs": [
    {
     "data": {
      "text/plain": [
       "'Transmission'"
      ]
     },
     "execution_count": 74,
     "metadata": {},
     "output_type": "execute_result"
    }
   ],
   "source": [
    "retrain_model(ps_outage_cleaned, 'Power Supply')"
   ]
  },
  {
   "cell_type": "code",
   "execution_count": 75,
   "metadata": {},
   "outputs": [
    {
     "data": {
      "text/plain": [
       "'New Construction'"
      ]
     },
     "execution_count": 75,
     "metadata": {},
     "output_type": "execute_result"
    }
   ],
   "source": [
    "retrain_model(plan_outage_cleaned, 'Planned')"
   ]
  },
  {
   "cell_type": "code",
   "execution_count": null,
   "metadata": {},
   "outputs": [],
   "source": []
  },
  {
   "cell_type": "code",
   "execution_count": null,
   "metadata": {},
   "outputs": [],
   "source": []
  }
 ],
 "metadata": {
  "kernelspec": {
   "display_name": "conda_python3",
   "language": "python",
   "name": "conda_python3"
  },
  "language_info": {
   "codemirror_mode": {
    "name": "ipython",
    "version": 3
   },
   "file_extension": ".py",
   "mimetype": "text/x-python",
   "name": "python",
   "nbconvert_exporter": "python",
   "pygments_lexer": "ipython3",
   "version": "3.6.5"
  }
 },
 "nbformat": 4,
 "nbformat_minor": 2
}
