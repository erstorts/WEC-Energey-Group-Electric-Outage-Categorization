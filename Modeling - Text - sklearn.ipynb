{
 "cells": [
  {
   "cell_type": "code",
   "execution_count": 19,
   "metadata": {},
   "outputs": [],
   "source": [
    "#install packages not on instance\n",
    "#!pip install xgboost"
   ]
  },
  {
   "cell_type": "code",
   "execution_count": 20,
   "metadata": {},
   "outputs": [],
   "source": [
    "#Cleaning Data\n",
    "import os\n",
    "import pandas as pd\n",
    "import numpy as np\n",
    "import datetime\n",
    "from sklearn.feature_extraction.text import CountVectorizer, TfidfVectorizer\n",
    "#modeling tools\n",
    "from sklearn.model_selection import train_test_split, cross_val_score, GridSearchCV\n",
    "from sklearn.metrics import confusion_matrix, classification_report, accuracy_score\n",
    "#modeling\n",
    "from sklearn.neighbors import KNeighborsClassifier\n",
    "from sklearn import linear_model\n",
    "from sklearn.naive_bayes import MultinomialNB\n",
    "from sklearn.tree import DecisionTreeClassifier\n",
    "from sklearn.ensemble import RandomForestClassifier, GradientBoostingClassifier\n",
    "#import xgboost as xgb\n",
    "#sagemaker training\n",
    "import sagemaker\n",
    "#deploying model\n",
    "from sklearn.externals import joblib\n",
    "import pickle"
   ]
  },
  {
   "cell_type": "code",
   "execution_count": 21,
   "metadata": {},
   "outputs": [
    {
     "data": {
      "text/html": [
       "<div>\n",
       "<style scoped>\n",
       "    .dataframe tbody tr th:only-of-type {\n",
       "        vertical-align: middle;\n",
       "    }\n",
       "\n",
       "    .dataframe tbody tr th {\n",
       "        vertical-align: top;\n",
       "    }\n",
       "\n",
       "    .dataframe thead th {\n",
       "        text-align: right;\n",
       "    }\n",
       "</style>\n",
       "<table border=\"1\" class=\"dataframe\">\n",
       "  <thead>\n",
       "    <tr style=\"text-align: right;\">\n",
       "      <th></th>\n",
       "      <th>outage category</th>\n",
       "      <th>Mobile Data Remarks</th>\n",
       "      <th>outage category number</th>\n",
       "    </tr>\n",
       "  </thead>\n",
       "  <tbody>\n",
       "    <tr>\n",
       "      <th>0</th>\n",
       "      <td>Equipment</td>\n",
       "      <td>ON LtOut TRBL SAYS OTHER SEE COMMENTS</td>\n",
       "      <td>0</td>\n",
       "    </tr>\n",
       "    <tr>\n",
       "      <th>1</th>\n",
       "      <td>Equipment</td>\n",
       "      <td>ON LtOut TRBL SAYS ONE LEG OF URD IS DEAD CUST...</td>\n",
       "      <td>0</td>\n",
       "    </tr>\n",
       "    <tr>\n",
       "      <th>2</th>\n",
       "      <td>Vegetation</td>\n",
       "      <td>ON HAZ TRBL SAYS REMOVED TREE FROM LINE NEARPO...</td>\n",
       "      <td>7</td>\n",
       "    </tr>\n",
       "    <tr>\n",
       "      <th>3</th>\n",
       "      <td>Equipment</td>\n",
       "      <td>ON LtOut TRBL SAYS REPAIRED BAD PRIMARY URD CA...</td>\n",
       "      <td>0</td>\n",
       "    </tr>\n",
       "    <tr>\n",
       "      <th>4</th>\n",
       "      <td>Equipment</td>\n",
       "      <td>ON LtOut TRBL SAYS BAD CONNECTOR ON CUST SERV ...</td>\n",
       "      <td>0</td>\n",
       "    </tr>\n",
       "  </tbody>\n",
       "</table>\n",
       "</div>"
      ],
      "text/plain": [
       "  outage category                                Mobile Data Remarks  \\\n",
       "0       Equipment             ON LtOut TRBL SAYS OTHER SEE COMMENTS    \n",
       "1       Equipment  ON LtOut TRBL SAYS ONE LEG OF URD IS DEAD CUST...   \n",
       "2      Vegetation  ON HAZ TRBL SAYS REMOVED TREE FROM LINE NEARPO...   \n",
       "3       Equipment  ON LtOut TRBL SAYS REPAIRED BAD PRIMARY URD CA...   \n",
       "4       Equipment  ON LtOut TRBL SAYS BAD CONNECTOR ON CUST SERV ...   \n",
       "\n",
       "   outage category number  \n",
       "0                       0  \n",
       "1                       0  \n",
       "2                       7  \n",
       "3                       0  \n",
       "4                       0  "
      ]
     },
     "execution_count": 21,
     "metadata": {},
     "output_type": "execute_result"
    }
   ],
   "source": [
    "#import data\n",
    "outage = pd.read_csv('We_WPS_comments_categories.csv')\n",
    "outage.head()"
   ]
  },
  {
   "cell_type": "code",
   "execution_count": 22,
   "metadata": {},
   "outputs": [],
   "source": [
    "#seperating out unknown causes\n",
    "all_unknowns = outage[outage['outage category'] == 'Unknown']\n",
    "#save off unknowns\n",
    "all_unknowns.to_csv('Unknown Outcomes.csv')\n",
    "#remove unknowns and not reporteable\n",
    "outage = outage[outage['outage category'] != 'Unknown']\n",
    "outage = outage[outage['outage category'] != 'Not Reportable']"
   ]
  },
  {
   "cell_type": "markdown",
   "metadata": {},
   "source": [
    "# Training"
   ]
  },
  {
   "cell_type": "code",
   "execution_count": 23,
   "metadata": {},
   "outputs": [],
   "source": [
    "#split features and target\n",
    "X = outage['Mobile Data Remarks']\n",
    "Y = pd.factorize(outage['outage category'])[0]"
   ]
  },
  {
   "cell_type": "code",
   "execution_count": 24,
   "metadata": {},
   "outputs": [],
   "source": [
    "#Train/Test Split\n",
    "X_train, X_test, y_train, y_test = train_test_split(X, Y, test_size = 0.25, random_state=53)\n",
    "#Initialize a CountVectorizer object\n",
    "count_vectorizer = CountVectorizer(stop_words='english')\n",
    "#Transform the training data using only the 'text' column values\n",
    "X_train = count_vectorizer.fit_transform(X_train)\n",
    "#Transform the test data using only the 'text' column values\n",
    "X_test = count_vectorizer.transform(X_test)\n",
    "#export count vectorizer\n",
    "pickle.dump(count_vectorizer, open(\"count_vectorizer.pickle\", \"wb\"))"
   ]
  },
  {
   "cell_type": "code",
   "execution_count": 26,
   "metadata": {},
   "outputs": [
    {
     "data": {
      "text/html": [
       "<div>\n",
       "<style scoped>\n",
       "    .dataframe tbody tr th:only-of-type {\n",
       "        vertical-align: middle;\n",
       "    }\n",
       "\n",
       "    .dataframe tbody tr th {\n",
       "        vertical-align: top;\n",
       "    }\n",
       "\n",
       "    .dataframe thead th {\n",
       "        text-align: right;\n",
       "    }\n",
       "</style>\n",
       "<table border=\"1\" class=\"dataframe\">\n",
       "  <thead>\n",
       "    <tr style=\"text-align: right;\">\n",
       "      <th></th>\n",
       "      <th>outage category</th>\n",
       "      <th>Mobile Data Remarks</th>\n",
       "      <th>outage category number</th>\n",
       "    </tr>\n",
       "  </thead>\n",
       "  <tbody>\n",
       "    <tr>\n",
       "      <th>0</th>\n",
       "      <td>Equipment</td>\n",
       "      <td>on ltout trbl says other see comments</td>\n",
       "      <td>0</td>\n",
       "    </tr>\n",
       "    <tr>\n",
       "      <th>1</th>\n",
       "      <td>Equipment</td>\n",
       "      <td>on ltout trbl says one leg of urd is dead cust...</td>\n",
       "      <td>0</td>\n",
       "    </tr>\n",
       "    <tr>\n",
       "      <th>2</th>\n",
       "      <td>Vegetation</td>\n",
       "      <td>on haz trbl says removed tree from line nearpo...</td>\n",
       "      <td>7</td>\n",
       "    </tr>\n",
       "    <tr>\n",
       "      <th>3</th>\n",
       "      <td>Equipment</td>\n",
       "      <td>on ltout trbl says repaired bad primary urd ca...</td>\n",
       "      <td>0</td>\n",
       "    </tr>\n",
       "    <tr>\n",
       "      <th>4</th>\n",
       "      <td>Equipment</td>\n",
       "      <td>on ltout trbl says bad connector on cust serv ...</td>\n",
       "      <td>0</td>\n",
       "    </tr>\n",
       "  </tbody>\n",
       "</table>\n",
       "</div>"
      ],
      "text/plain": [
       "  outage category                                Mobile Data Remarks  \\\n",
       "0       Equipment             on ltout trbl says other see comments    \n",
       "1       Equipment  on ltout trbl says one leg of urd is dead cust...   \n",
       "2      Vegetation  on haz trbl says removed tree from line nearpo...   \n",
       "3       Equipment  on ltout trbl says repaired bad primary urd ca...   \n",
       "4       Equipment  on ltout trbl says bad connector on cust serv ...   \n",
       "\n",
       "   outage category number  \n",
       "0                       0  \n",
       "1                       0  \n",
       "2                       7  \n",
       "3                       0  \n",
       "4                       0  "
      ]
     },
     "execution_count": 26,
     "metadata": {},
     "output_type": "execute_result"
    }
   ],
   "source": [
    "outage.iloc[:, 1] = outage.iloc[:, 1].map(lambda x: x.lower())\n",
    "outage.head()"
   ]
  },
  {
   "cell_type": "code",
   "execution_count": 28,
   "metadata": {},
   "outputs": [
    {
     "data": {
      "text/plain": [
       "0     equipment\n",
       "1     equipment\n",
       "2    vegetation\n",
       "3     equipment\n",
       "4     equipment\n",
       "Name: outage category, dtype: object"
      ]
     },
     "execution_count": 28,
     "metadata": {},
     "output_type": "execute_result"
    }
   ],
   "source": [
    "outage.iloc[:, 0] = outage.iloc[:, 0].values.astype('unicode')\n",
    "#make sure all text is lowercase\n",
    "X_train = outage.iloc[:, 0].map(lambda x: x.lower())\n",
    "X_train.head()"
   ]
  },
  {
   "cell_type": "code",
   "execution_count": null,
   "metadata": {},
   "outputs": [],
   "source": [
    "#set up models\n",
    "rf = RandomForestClassifier(n_estimators = 500, max_features = None, n_jobs=-1)\n",
    "rf = rf.fit(X_train, y_train)"
   ]
  },
  {
   "cell_type": "code",
   "execution_count": null,
   "metadata": {},
   "outputs": [],
   "source": [
    "#train\n",
    "rf = rf.fit(X_train, y_train)"
   ]
  },
  {
   "cell_type": "markdown",
   "metadata": {},
   "source": [
    "# Test"
   ]
  },
  {
   "cell_type": "code",
   "execution_count": null,
   "metadata": {},
   "outputs": [],
   "source": [
    "#model performance\n",
    "y_pred = rf.predict(X_test)\n",
    "accuracy_score(y_test, y_pred)"
   ]
  },
  {
   "cell_type": "code",
   "execution_count": null,
   "metadata": {},
   "outputs": [],
   "source": [
    "#which outcomes are being predicted best\n",
    "confusion_matrix(y_test, y_pred)"
   ]
  },
  {
   "cell_type": "code",
   "execution_count": null,
   "metadata": {},
   "outputs": [],
   "source": [
    "X = count_vectorizer.transform(X)\n",
    "X[0]"
   ]
  },
  {
   "cell_type": "code",
   "execution_count": null,
   "metadata": {},
   "outputs": [],
   "source": [
    "# see how it categoizes unknonwn outcome\n",
    "prediction = model.predict(X[0])\n",
    "#import outcome decoder\n",
    "decoder = pd.read_csv('decoder.csv')\n",
    "#set index to the outcome number\n",
    "decoder = decoder.set_index('Number')\n",
    "#tranlate it to a dict\n",
    "decoder = decoder.to_dict()\n",
    "#convert prediction to text\n",
    "result = decoder['Word'][prediction]\n",
    "#see result\n",
    "print(result)"
   ]
  },
  {
   "cell_type": "markdown",
   "metadata": {},
   "source": [
    "# Deploy"
   ]
  },
  {
   "cell_type": "code",
   "execution_count": null,
   "metadata": {},
   "outputs": [],
   "source": [
    "# Save the model as a pickle in a file \n",
    "#joblib.dump(rf, 'Text_RF.pkl')"
   ]
  },
  {
   "cell_type": "code",
   "execution_count": null,
   "metadata": {},
   "outputs": [],
   "source": []
  }
 ],
 "metadata": {
  "kernelspec": {
   "display_name": "conda_python3",
   "language": "python",
   "name": "conda_python3"
  },
  "language_info": {
   "codemirror_mode": {
    "name": "ipython",
    "version": 3
   },
   "file_extension": ".py",
   "mimetype": "text/x-python",
   "name": "python",
   "nbconvert_exporter": "python",
   "pygments_lexer": "ipython3",
   "version": "3.6.5"
  }
 },
 "nbformat": 4,
 "nbformat_minor": 2
}
