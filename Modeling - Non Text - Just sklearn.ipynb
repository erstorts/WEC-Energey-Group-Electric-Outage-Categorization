{
 "cells": [
  {
   "cell_type": "code",
   "execution_count": 4,
   "metadata": {},
   "outputs": [
    {
     "name": "stdout",
     "output_type": "stream",
     "text": [
      "Requirement already satisfied: xgboost in /home/ec2-user/anaconda3/envs/python3/lib/python3.6/site-packages (0.90)\n",
      "Requirement already satisfied: scipy in /home/ec2-user/anaconda3/envs/python3/lib/python3.6/site-packages (from xgboost) (1.1.0)\n",
      "Requirement already satisfied: numpy in /home/ec2-user/anaconda3/envs/python3/lib/python3.6/site-packages (from xgboost) (1.14.3)\n",
      "\u001b[33mYou are using pip version 10.0.1, however version 19.2.3 is available.\n",
      "You should consider upgrading via the 'pip install --upgrade pip' command.\u001b[0m\n"
     ]
    }
   ],
   "source": [
    "!pip install xgboost"
   ]
  },
  {
   "cell_type": "code",
   "execution_count": 5,
   "metadata": {},
   "outputs": [],
   "source": [
    "#Cleaning Data\n",
    "import os\n",
    "import pandas as pd\n",
    "import numpy as np\n",
    "import datetime\n",
    "from sklearn.feature_extraction.text import CountVectorizer, TfidfVectorizer\n",
    "#viz\n",
    "import matplotlib.pyplot as plt\n",
    "#modeling tools\n",
    "from sklearn.model_selection import train_test_split, cross_val_score, GridSearchCV\n",
    "from sklearn.metrics import confusion_matrix, classification_report, accuracy_score, roc_auc_score\n",
    "#modeling\n",
    "from sklearn.neighbors import KNeighborsClassifier\n",
    "from sklearn import linear_model\n",
    "from sklearn.naive_bayes import MultinomialNB\n",
    "from sklearn.tree import DecisionTreeClassifier\n",
    "from sklearn.ensemble import RandomForestClassifier\n",
    "import xgboost as xgb\n",
    "#deploying model\n",
    "from sklearn.externals import joblib"
   ]
  },
  {
   "cell_type": "markdown",
   "metadata": {},
   "source": [
    "# Import - We"
   ]
  },
  {
   "cell_type": "code",
   "execution_count": 6,
   "metadata": {},
   "outputs": [
    {
     "data": {
      "text/html": [
       "<div>\n",
       "<style scoped>\n",
       "    .dataframe tbody tr th:only-of-type {\n",
       "        vertical-align: middle;\n",
       "    }\n",
       "\n",
       "    .dataframe tbody tr th {\n",
       "        vertical-align: top;\n",
       "    }\n",
       "\n",
       "    .dataframe thead th {\n",
       "        text-align: right;\n",
       "    }\n",
       "</style>\n",
       "<table border=\"1\" class=\"dataframe\">\n",
       "  <thead>\n",
       "    <tr style=\"text-align: right;\">\n",
       "      <th></th>\n",
       "      <th>Volt_D</th>\n",
       "      <th>Volt_E</th>\n",
       "      <th>Volt_F</th>\n",
       "      <th>Volt_H</th>\n",
       "      <th>Volt_J</th>\n",
       "      <th>Volt_M</th>\n",
       "      <th>Volt_R</th>\n",
       "      <th>Volt_SD</th>\n",
       "      <th>Volt_TV</th>\n",
       "      <th>Volt_US</th>\n",
       "      <th>...</th>\n",
       "      <th>year_2011</th>\n",
       "      <th>year_2012</th>\n",
       "      <th>year_2013</th>\n",
       "      <th>year_2014</th>\n",
       "      <th>year_2015</th>\n",
       "      <th>year_2016</th>\n",
       "      <th>year_2017</th>\n",
       "      <th>year_2018</th>\n",
       "      <th>outage category</th>\n",
       "      <th>outage subcategory</th>\n",
       "    </tr>\n",
       "  </thead>\n",
       "  <tbody>\n",
       "    <tr>\n",
       "      <th>0</th>\n",
       "      <td>0</td>\n",
       "      <td>0</td>\n",
       "      <td>0</td>\n",
       "      <td>0</td>\n",
       "      <td>0</td>\n",
       "      <td>0</td>\n",
       "      <td>0</td>\n",
       "      <td>0</td>\n",
       "      <td>0</td>\n",
       "      <td>0</td>\n",
       "      <td>...</td>\n",
       "      <td>0</td>\n",
       "      <td>0</td>\n",
       "      <td>0</td>\n",
       "      <td>0</td>\n",
       "      <td>0</td>\n",
       "      <td>0</td>\n",
       "      <td>0</td>\n",
       "      <td>0</td>\n",
       "      <td>Equipment</td>\n",
       "      <td>NaN</td>\n",
       "    </tr>\n",
       "    <tr>\n",
       "      <th>1</th>\n",
       "      <td>0</td>\n",
       "      <td>0</td>\n",
       "      <td>0</td>\n",
       "      <td>0</td>\n",
       "      <td>0</td>\n",
       "      <td>0</td>\n",
       "      <td>0</td>\n",
       "      <td>1</td>\n",
       "      <td>0</td>\n",
       "      <td>0</td>\n",
       "      <td>...</td>\n",
       "      <td>0</td>\n",
       "      <td>0</td>\n",
       "      <td>0</td>\n",
       "      <td>0</td>\n",
       "      <td>0</td>\n",
       "      <td>0</td>\n",
       "      <td>0</td>\n",
       "      <td>0</td>\n",
       "      <td>Equipment</td>\n",
       "      <td>Conductor/Cable</td>\n",
       "    </tr>\n",
       "    <tr>\n",
       "      <th>2</th>\n",
       "      <td>0</td>\n",
       "      <td>0</td>\n",
       "      <td>0</td>\n",
       "      <td>0</td>\n",
       "      <td>0</td>\n",
       "      <td>1</td>\n",
       "      <td>0</td>\n",
       "      <td>0</td>\n",
       "      <td>0</td>\n",
       "      <td>0</td>\n",
       "      <td>...</td>\n",
       "      <td>0</td>\n",
       "      <td>0</td>\n",
       "      <td>0</td>\n",
       "      <td>0</td>\n",
       "      <td>0</td>\n",
       "      <td>0</td>\n",
       "      <td>0</td>\n",
       "      <td>0</td>\n",
       "      <td>Vegetation</td>\n",
       "      <td>Out Clearance Zone (ROW)</td>\n",
       "    </tr>\n",
       "    <tr>\n",
       "      <th>3</th>\n",
       "      <td>0</td>\n",
       "      <td>0</td>\n",
       "      <td>0</td>\n",
       "      <td>0</td>\n",
       "      <td>0</td>\n",
       "      <td>0</td>\n",
       "      <td>0</td>\n",
       "      <td>0</td>\n",
       "      <td>0</td>\n",
       "      <td>0</td>\n",
       "      <td>...</td>\n",
       "      <td>0</td>\n",
       "      <td>0</td>\n",
       "      <td>0</td>\n",
       "      <td>0</td>\n",
       "      <td>0</td>\n",
       "      <td>0</td>\n",
       "      <td>0</td>\n",
       "      <td>0</td>\n",
       "      <td>Equipment</td>\n",
       "      <td>Conductor/Cable</td>\n",
       "    </tr>\n",
       "    <tr>\n",
       "      <th>4</th>\n",
       "      <td>0</td>\n",
       "      <td>0</td>\n",
       "      <td>0</td>\n",
       "      <td>0</td>\n",
       "      <td>0</td>\n",
       "      <td>0</td>\n",
       "      <td>0</td>\n",
       "      <td>1</td>\n",
       "      <td>0</td>\n",
       "      <td>0</td>\n",
       "      <td>...</td>\n",
       "      <td>0</td>\n",
       "      <td>0</td>\n",
       "      <td>0</td>\n",
       "      <td>0</td>\n",
       "      <td>0</td>\n",
       "      <td>0</td>\n",
       "      <td>0</td>\n",
       "      <td>0</td>\n",
       "      <td>Equipment</td>\n",
       "      <td>NaN</td>\n",
       "    </tr>\n",
       "  </tbody>\n",
       "</table>\n",
       "<p>5 rows × 788 columns</p>\n",
       "</div>"
      ],
      "text/plain": [
       "   Volt_D  Volt_E  Volt_F  Volt_H  Volt_J  Volt_M  Volt_R  Volt_SD  Volt_TV  \\\n",
       "0       0       0       0       0       0       0       0        0        0   \n",
       "1       0       0       0       0       0       0       0        1        0   \n",
       "2       0       0       0       0       0       1       0        0        0   \n",
       "3       0       0       0       0       0       0       0        0        0   \n",
       "4       0       0       0       0       0       0       0        1        0   \n",
       "\n",
       "   Volt_US  ...  year_2011  year_2012  year_2013  year_2014  year_2015  \\\n",
       "0        0  ...          0          0          0          0          0   \n",
       "1        0  ...          0          0          0          0          0   \n",
       "2        0  ...          0          0          0          0          0   \n",
       "3        0  ...          0          0          0          0          0   \n",
       "4        0  ...          0          0          0          0          0   \n",
       "\n",
       "   year_2016  year_2017  year_2018  outage category        outage subcategory  \n",
       "0          0          0          0        Equipment                       NaN  \n",
       "1          0          0          0        Equipment           Conductor/Cable  \n",
       "2          0          0          0       Vegetation  Out Clearance Zone (ROW)  \n",
       "3          0          0          0        Equipment           Conductor/Cable  \n",
       "4          0          0          0        Equipment                       NaN  \n",
       "\n",
       "[5 rows x 788 columns]"
      ]
     },
     "execution_count": 6,
     "metadata": {},
     "output_type": "execute_result"
    }
   ],
   "source": [
    "#import data\n",
    "we_outage = pd.read_csv('We_Cleaned.csv')\n",
    "we_outage.head()"
   ]
  },
  {
   "cell_type": "markdown",
   "metadata": {},
   "source": [
    "# Train - We"
   ]
  },
  {
   "cell_type": "code",
   "execution_count": 17,
   "metadata": {},
   "outputs": [],
   "source": [
    "#split features and target\n",
    "X = we_outage.drop(['outage category', 'outage subcategory', 'Cdur', 'CMI', 'Ckva', 'Calls', 'CI'], axis=1)\n",
    "Y = pd.factorize(we_outage['outage category'])[0]\n",
    "#Train/Test Split\n",
    "X_train, X_test, y_train, y_test = train_test_split(X, Y, test_size = 0.25, random_state=53)"
   ]
  },
  {
   "cell_type": "code",
   "execution_count": 18,
   "metadata": {},
   "outputs": [
    {
     "data": {
      "text/plain": [
       "RandomForestClassifier(bootstrap=True, class_weight=None, criterion='gini',\n",
       "            max_depth=None, max_features=None, max_leaf_nodes=None,\n",
       "            min_impurity_decrease=0.0, min_impurity_split=None,\n",
       "            min_samples_leaf=1, min_samples_split=2,\n",
       "            min_weight_fraction_leaf=0.0, n_estimators=100, n_jobs=-1,\n",
       "            oob_score=False, random_state=None, verbose=0,\n",
       "            warm_start=False)"
      ]
     },
     "execution_count": 18,
     "metadata": {},
     "output_type": "execute_result"
    }
   ],
   "source": [
    "#set up model and train\n",
    "model = RandomForestClassifier(n_estimators=100, max_features=None, n_jobs=-1)\n",
    "model.fit(X_train, y_train)"
   ]
  },
  {
   "cell_type": "markdown",
   "metadata": {},
   "source": [
    "# Test - We"
   ]
  },
  {
   "cell_type": "code",
   "execution_count": 19,
   "metadata": {},
   "outputs": [
    {
     "data": {
      "text/plain": [
       "0.4900179528366832"
      ]
     },
     "execution_count": 19,
     "metadata": {},
     "output_type": "execute_result"
    }
   ],
   "source": [
    "#find accuracy\n",
    "y_pred = model.predict(X_test)\n",
    "accuracy_score(y_test, y_pred)"
   ]
  },
  {
   "cell_type": "code",
   "execution_count": 20,
   "metadata": {},
   "outputs": [
    {
     "data": {
      "text/plain": [
       "array([[13819,  4999,   727,  1180,  1263,  2364,   114,    71],\n",
       "       [ 4845, 12338,   622,   939,  1127,  1994,   105,    66],\n",
       "       [  864,   812,   849,   186,   619,   355,    21,    18],\n",
       "       [ 1675,  1237,   147,  1625,   313,   509,    27,    28],\n",
       "       [ 1378,  1309,   411,   305,  2465,   560,    38,    38],\n",
       "       [ 2320,  2168,   316,   471,   530,  4844,    68,    15],\n",
       "       [  192,   115,    13,    34,    46,    79,   146,     2],\n",
       "       [   50,    45,    12,    12,    20,     6,     1,   216]])"
      ]
     },
     "execution_count": 20,
     "metadata": {},
     "output_type": "execute_result"
    }
   ],
   "source": [
    "#which target is best predicted\n",
    "confusion_matrix(y_test, y_pred)"
   ]
  },
  {
   "cell_type": "code",
   "execution_count": 21,
   "metadata": {},
   "outputs": [
    {
     "data": {
      "image/png": "[encoded data removed]",
      "text/plain": [
       "<Figure size 432x288 with 1 Axes>"
      ]
     },
     "metadata": {},
     "output_type": "display_data"
    }
   ],
   "source": [
    "# Create a pd.Series of features importances\n",
    "importances_rf = pd.Series(model.feature_importances_, index = X.columns)\n",
    "# Sort importances_rf\n",
    "sorted_importances_rf = importances_rf.sort_values()[-5:]\n",
    "# Make a horizontal bar plot\n",
    "sorted_importances_rf.plot(kind='barh', color='lightgreen')\n",
    "plt.show()"
   ]
  },
  {
   "cell_type": "code",
   "execution_count": 22,
   "metadata": {},
   "outputs": [
    {
     "data": {
      "text/plain": [
       "Volt_D                                0.000000e+00\n",
       "SS Location_GREDE                     0.000000e+00\n",
       "Sys_D                                 0.000000e+00\n",
       "SS Location_WALKER                    0.000000e+00\n",
       "SS Location_CARROLLVILLE              2.553652e-07\n",
       "SS Location_RANDOM LAKE               9.712903e-07\n",
       "SS Location_LYNDON                    1.487672e-06\n",
       "SS Location_LA BELLE                  1.732364e-06\n",
       "SS Location_GRAFTON                   1.773085e-06\n",
       "SS Location_PLAINS                    1.775241e-06\n",
       "Volt_ZX                               2.182589e-06\n",
       "SS Location_GREVES                    2.389307e-06\n",
       "SS Location_MARSHFIELD                2.959669e-06\n",
       "SS Location_AIR LIQUIDE               2.976042e-06\n",
       "Sys_ZX                                3.247038e-06\n",
       "Cls_X                                 4.733825e-06\n",
       "SS Location_DOUSMAN                   4.968116e-06\n",
       "SS Location_PARKLAND                  5.346991e-06\n",
       "SS Location_PLEASANT VALLEY           6.334780e-06\n",
       "SS Location_OOSTBERG                  6.604316e-06\n",
       "SS Location_ASHIPPUN                  6.720771e-06\n",
       "SS Location_FAIRVIEW                  6.789922e-06\n",
       "SS Location_WHITNALL                  7.772252e-06\n",
       "SS Location_ERIN                      7.786293e-06\n",
       "SS Location_WATERFORD                 8.869721e-06\n",
       "SS Location_HALES CORNERS             1.014205e-05\n",
       "SS Location_BROWNS LAKE               1.029415e-05\n",
       "How Rest_None                         1.042833e-05\n",
       "SS Location_BELGIUM                   1.054396e-05\n",
       "SS Location_SPRINGFIELD               1.078025e-05\n",
       "                                          ...     \n",
       "week_23                               4.934863e-03\n",
       "Area_ML                               4.951358e-03\n",
       "week_29                               5.015439e-03\n",
       "week_35                               5.058203e-03\n",
       "week_26                               5.076954e-03\n",
       "hour_0                                5.245400e-03\n",
       "Weather_Wind                          5.269245e-03\n",
       "week_28                               5.392199e-03\n",
       "How Rest_CLOSE INTER DEVICE           5.416695e-03\n",
       "week_25                               5.424861e-03\n",
       "How Rest_REPAIR/REPLACE WIRE/EQUIP    5.589823e-03\n",
       "year_2012                             6.576300e-03\n",
       "Strm_NS                               6.689622e-03\n",
       "year_2018                             6.877381e-03\n",
       "Int Device_SERVICE XFMR FUSE          7.051373e-03\n",
       "Int Device_LINE/TAP FUSE              7.436681e-03\n",
       "Repair Made_CUTOUT (FUSED)            8.276720e-03\n",
       "PhAff_ABC                             8.474230e-03\n",
       "Repair Made_POLE                      8.737092e-03\n",
       "year_2011                             1.205484e-02\n",
       "PhAff_C                               1.207855e-02\n",
       "Weather_Thunderstorm                  1.213200e-02\n",
       "PhAff_A                               1.214482e-02\n",
       "PhAff_B                               1.248778e-02\n",
       "Repair Made_CONDUCTOR                 1.341075e-02\n",
       "Repair Made_FUSE                      1.746548e-02\n",
       "Repair Made_OTHER SEE COMMENTS        2.040403e-02\n",
       "Weather_Lightning                     2.440910e-02\n",
       "How Rest_REPLACE FUSE                 3.218803e-02\n",
       "Weather_Calm                          3.890792e-02\n",
       "Length: 781, dtype: float64"
      ]
     },
     "execution_count": 22,
     "metadata": {},
     "output_type": "execute_result"
    }
   ],
   "source": [
    "#look at all features\n",
    "importances_rf.sort_values()"
   ]
  },
  {
   "cell_type": "markdown",
   "metadata": {},
   "source": [
    "# Deploy - We"
   ]
  },
  {
   "cell_type": "code",
   "execution_count": null,
   "metadata": {},
   "outputs": [],
   "source": [
    "# Save the model as a pickle in a file \n",
    "#joblib.dump(model, 'Non-Text_RF.pkl')"
   ]
  },
  {
   "cell_type": "markdown",
   "metadata": {},
   "source": [
    "# Import - WPS"
   ]
  },
  {
   "cell_type": "code",
   "execution_count": 23,
   "metadata": {},
   "outputs": [
    {
     "data": {
      "text/html": [
       "<div>\n",
       "<style scoped>\n",
       "    .dataframe tbody tr th:only-of-type {\n",
       "        vertical-align: middle;\n",
       "    }\n",
       "\n",
       "    .dataframe tbody tr th {\n",
       "        vertical-align: top;\n",
       "    }\n",
       "\n",
       "    .dataframe thead th {\n",
       "        text-align: right;\n",
       "    }\n",
       "</style>\n",
       "<table border=\"1\" class=\"dataframe\">\n",
       "  <thead>\n",
       "    <tr style=\"text-align: right;\">\n",
       "      <th></th>\n",
       "      <th>State_MI</th>\n",
       "      <th>State_WI</th>\n",
       "      <th>Agency_ANT</th>\n",
       "      <th>Agency_CHI</th>\n",
       "      <th>Agency_ER</th>\n",
       "      <th>Agency_GB</th>\n",
       "      <th>Agency_KEW</th>\n",
       "      <th>Agency_MER</th>\n",
       "      <th>Agency_MIN</th>\n",
       "      <th>Agency_MM</th>\n",
       "      <th>...</th>\n",
       "      <th>year_2011</th>\n",
       "      <th>year_2012</th>\n",
       "      <th>year_2013</th>\n",
       "      <th>year_2014</th>\n",
       "      <th>year_2015</th>\n",
       "      <th>year_2016</th>\n",
       "      <th>year_2017</th>\n",
       "      <th>year_2018</th>\n",
       "      <th>outage category</th>\n",
       "      <th>outage subcategory</th>\n",
       "    </tr>\n",
       "  </thead>\n",
       "  <tbody>\n",
       "    <tr>\n",
       "      <th>0</th>\n",
       "      <td>0</td>\n",
       "      <td>1</td>\n",
       "      <td>0</td>\n",
       "      <td>0</td>\n",
       "      <td>0</td>\n",
       "      <td>0</td>\n",
       "      <td>0</td>\n",
       "      <td>0</td>\n",
       "      <td>0</td>\n",
       "      <td>0</td>\n",
       "      <td>...</td>\n",
       "      <td>0</td>\n",
       "      <td>0</td>\n",
       "      <td>0</td>\n",
       "      <td>0</td>\n",
       "      <td>0</td>\n",
       "      <td>0</td>\n",
       "      <td>0</td>\n",
       "      <td>0</td>\n",
       "      <td>Public</td>\n",
       "      <td>Foreign Object</td>\n",
       "    </tr>\n",
       "    <tr>\n",
       "      <th>1</th>\n",
       "      <td>0</td>\n",
       "      <td>1</td>\n",
       "      <td>0</td>\n",
       "      <td>0</td>\n",
       "      <td>0</td>\n",
       "      <td>1</td>\n",
       "      <td>0</td>\n",
       "      <td>0</td>\n",
       "      <td>0</td>\n",
       "      <td>0</td>\n",
       "      <td>...</td>\n",
       "      <td>0</td>\n",
       "      <td>0</td>\n",
       "      <td>0</td>\n",
       "      <td>0</td>\n",
       "      <td>0</td>\n",
       "      <td>0</td>\n",
       "      <td>0</td>\n",
       "      <td>0</td>\n",
       "      <td>Planned</td>\n",
       "      <td>New Construction</td>\n",
       "    </tr>\n",
       "    <tr>\n",
       "      <th>2</th>\n",
       "      <td>0</td>\n",
       "      <td>1</td>\n",
       "      <td>0</td>\n",
       "      <td>0</td>\n",
       "      <td>0</td>\n",
       "      <td>0</td>\n",
       "      <td>0</td>\n",
       "      <td>0</td>\n",
       "      <td>0</td>\n",
       "      <td>0</td>\n",
       "      <td>...</td>\n",
       "      <td>0</td>\n",
       "      <td>0</td>\n",
       "      <td>0</td>\n",
       "      <td>0</td>\n",
       "      <td>0</td>\n",
       "      <td>0</td>\n",
       "      <td>0</td>\n",
       "      <td>0</td>\n",
       "      <td>Public</td>\n",
       "      <td>Fire/Police</td>\n",
       "    </tr>\n",
       "    <tr>\n",
       "      <th>3</th>\n",
       "      <td>0</td>\n",
       "      <td>1</td>\n",
       "      <td>0</td>\n",
       "      <td>0</td>\n",
       "      <td>0</td>\n",
       "      <td>0</td>\n",
       "      <td>0</td>\n",
       "      <td>0</td>\n",
       "      <td>0</td>\n",
       "      <td>0</td>\n",
       "      <td>...</td>\n",
       "      <td>0</td>\n",
       "      <td>0</td>\n",
       "      <td>0</td>\n",
       "      <td>0</td>\n",
       "      <td>0</td>\n",
       "      <td>0</td>\n",
       "      <td>0</td>\n",
       "      <td>0</td>\n",
       "      <td>Unknown</td>\n",
       "      <td>NaN</td>\n",
       "    </tr>\n",
       "    <tr>\n",
       "      <th>4</th>\n",
       "      <td>0</td>\n",
       "      <td>1</td>\n",
       "      <td>0</td>\n",
       "      <td>1</td>\n",
       "      <td>0</td>\n",
       "      <td>0</td>\n",
       "      <td>0</td>\n",
       "      <td>0</td>\n",
       "      <td>0</td>\n",
       "      <td>0</td>\n",
       "      <td>...</td>\n",
       "      <td>0</td>\n",
       "      <td>0</td>\n",
       "      <td>0</td>\n",
       "      <td>0</td>\n",
       "      <td>0</td>\n",
       "      <td>0</td>\n",
       "      <td>0</td>\n",
       "      <td>0</td>\n",
       "      <td>Vegetation</td>\n",
       "      <td>Other</td>\n",
       "    </tr>\n",
       "  </tbody>\n",
       "</table>\n",
       "<p>5 rows × 157 columns</p>\n",
       "</div>"
      ],
      "text/plain": [
       "   State_MI  State_WI  Agency_ANT  Agency_CHI  Agency_ER  Agency_GB  \\\n",
       "0         0         1           0           0          0          0   \n",
       "1         0         1           0           0          0          1   \n",
       "2         0         1           0           0          0          0   \n",
       "3         0         1           0           0          0          0   \n",
       "4         0         1           0           1          0          0   \n",
       "\n",
       "   Agency_KEW  Agency_MER  Agency_MIN  Agency_MM  ...  year_2011  year_2012  \\\n",
       "0           0           0           0          0  ...          0          0   \n",
       "1           0           0           0          0  ...          0          0   \n",
       "2           0           0           0          0  ...          0          0   \n",
       "3           0           0           0          0  ...          0          0   \n",
       "4           0           0           0          0  ...          0          0   \n",
       "\n",
       "   year_2013  year_2014  year_2015  year_2016  year_2017  year_2018  \\\n",
       "0          0          0          0          0          0          0   \n",
       "1          0          0          0          0          0          0   \n",
       "2          0          0          0          0          0          0   \n",
       "3          0          0          0          0          0          0   \n",
       "4          0          0          0          0          0          0   \n",
       "\n",
       "   outage category  outage subcategory  \n",
       "0           Public      Foreign Object  \n",
       "1          Planned    New Construction  \n",
       "2           Public         Fire/Police  \n",
       "3          Unknown                 NaN  \n",
       "4       Vegetation               Other  \n",
       "\n",
       "[5 rows x 157 columns]"
      ]
     },
     "execution_count": 23,
     "metadata": {},
     "output_type": "execute_result"
    }
   ],
   "source": [
    "#import data\n",
    "wps_outage = pd.read_csv('WPS_Cleaned.csv')\n",
    "wps_outage.head()"
   ]
  },
  {
   "cell_type": "markdown",
   "metadata": {},
   "source": [
    "# Train - WPS"
   ]
  },
  {
   "cell_type": "code",
   "execution_count": 29,
   "metadata": {},
   "outputs": [],
   "source": [
    "#split features and target\n",
    "X = wps_outage.drop(['outage category', 'outage subcategory', 'outage_duration', 'CustomerMinutes', 'num_cust'], axis=1)\n",
    "Y = pd.factorize(wps_outage['outage category'])[0]\n",
    "#Train/Test Split\n",
    "X_train, X_test, y_train, y_test = train_test_split(X, Y, test_size = 0.25, random_state=53)"
   ]
  },
  {
   "cell_type": "code",
   "execution_count": 30,
   "metadata": {},
   "outputs": [],
   "source": [
    "#set up models\n",
    "rf = RandomForestClassifier(n_estimators=100, max_features=None, n_jobs=-1)\n",
    "rf = rf.fit(X_train, y_train)"
   ]
  },
  {
   "cell_type": "markdown",
   "metadata": {},
   "source": [
    "# Test - WPS"
   ]
  },
  {
   "cell_type": "code",
   "execution_count": 31,
   "metadata": {},
   "outputs": [
    {
     "data": {
      "text/plain": [
       "0.535445842234354"
      ]
     },
     "execution_count": 31,
     "metadata": {},
     "output_type": "execute_result"
    }
   ],
   "source": [
    "#model performance\n",
    "y_pred = rf.predict(X_test)\n",
    "accuracy_score(y_test, y_pred)"
   ]
  },
  {
   "cell_type": "code",
   "execution_count": 32,
   "metadata": {},
   "outputs": [
    {
     "data": {
      "text/plain": [
       "array([[ 121,  124,   44,  316,  319,   36,   35,    2,    1,    0],\n",
       "       [  40, 3090,   45,  340,  213,   65,   40,    1,    0,    0],\n",
       "       [  21,  131,  312,  816,  621,  213,  154,    3,    2,    0],\n",
       "       [  77,  311,  347, 5835,  948,  176,  621,   21,    2,    0],\n",
       "       [  75,  315,  265, 1017, 2562,  365,  290,   21,    5,    0],\n",
       "       [  13,  143,  151,  158,  613,  489,   87,    2,    2,    0],\n",
       "       [  18,   76,  127, 1104,  449,  115, 1062,    9,    1,    0],\n",
       "       [   5,   11,    8,   73,   74,   13,   17,   40,    0,    0],\n",
       "       [   0,    6,    0,    9,    4,    0,    2,    0,   21,    0],\n",
       "       [   1,    6,    0,    5,    2,    0,    1,    0,    0,    3]])"
      ]
     },
     "execution_count": 32,
     "metadata": {},
     "output_type": "execute_result"
    }
   ],
   "source": [
    "#which target is best predicted\n",
    "confusion_matrix(y_test, y_pred)"
   ]
  },
  {
   "cell_type": "code",
   "execution_count": 33,
   "metadata": {},
   "outputs": [
    {
     "data": {
      "image/png": "[encoded data removed]",
      "text/plain": [
       "<Figure size 432x288 with 1 Axes>"
      ]
     },
     "metadata": {},
     "output_type": "display_data"
    }
   ],
   "source": [
    "# Create a pd.Series of features importances\n",
    "importances_rf = pd.Series(rf.feature_importances_, index = X.columns)\n",
    "# Sort importances_rf\n",
    "sorted_importances_rf = importances_rf.sort_values()[-5:]\n",
    "# Make a horizontal bar plot\n",
    "sorted_importances_rf.plot(kind='barh', color='lightgreen')\n",
    "plt.show()"
   ]
  },
  {
   "cell_type": "code",
   "execution_count": 34,
   "metadata": {},
   "outputs": [
    {
     "data": {
      "text/plain": [
       "EventType_XFMR_STPDWN_OH     0.000000\n",
       "EventType_SUB_LOCKOUT        0.000000\n",
       "EventType_PARTPWR_A          0.000000\n",
       "EventType_UNMAPPED_SWITCH    0.000002\n",
       "EventType_XFMR_STPDWN_UG     0.000004\n",
       "EventType_VOLT_REG           0.000023\n",
       "EventType_SECTIONALIZER      0.000040\n",
       "EventType_PRIMOPEN           0.000044\n",
       "EventType_TMP_FUSE           0.000061\n",
       "EventType_PARTPWR_U          0.000107\n",
       "EventType_TMP_SWITCH         0.000121\n",
       "phase_NA                     0.000133\n",
       "EventType_PWROUT_A           0.000191\n",
       "EventType_UNMAPPED_FUSE      0.000281\n",
       "EventType_TRANS_LOCKOUT      0.000285\n",
       "week_53                      0.000667\n",
       "EventType_PRIMARY_OH         0.000668\n",
       "Storm Flag_MN                0.000688\n",
       "EventType_PRIMARY_UG         0.000727\n",
       "EventType_FDR_LOCKOUT        0.001234\n",
       "Storm Flag_EE                0.001310\n",
       "Storm Flag_MJ                0.001415\n",
       "EventType_DISCONNECT         0.001612\n",
       "week_6                       0.002356\n",
       "week_5                       0.002461\n",
       "phase_BC                     0.002533\n",
       "week_4                       0.002547\n",
       "week_1                       0.002568\n",
       "phase_AB                     0.002602\n",
       "week_2                       0.002621\n",
       "                               ...   \n",
       "hour_6                       0.008990\n",
       "Working_Yes                  0.009134\n",
       "Agency_MIN                   0.009238\n",
       "year_2013                    0.009278\n",
       "year_2010                    0.009306\n",
       "year_2011                    0.009671\n",
       "hour_16                      0.009681\n",
       "hour_8                       0.009829\n",
       "hour_7                       0.009856\n",
       "hour_15                      0.010072\n",
       "year_2015                    0.010144\n",
       "hour_14                      0.010155\n",
       "year_2014                    0.010243\n",
       "phase_ABC                    0.010749\n",
       "hour_11                      0.010836\n",
       "hour_12                      0.011002\n",
       "hour_13                      0.011022\n",
       "Agency_WAU                   0.011094\n",
       "hour_10                      0.011275\n",
       "Agency_RHI                   0.011586\n",
       "hour_9                       0.012315\n",
       "Agency_GB                    0.012972\n",
       "EventType_XFMR_DIST_UG       0.018205\n",
       "EventType_PARTPWR            0.018672\n",
       "phase_C                      0.020400\n",
       "phase_B                      0.020859\n",
       "phase_A                      0.021071\n",
       "EventType_PWROUT             0.027169\n",
       "EventType_XFMR_DIST_OH       0.042551\n",
       "Storm Flag_NS                0.059170\n",
       "Length: 152, dtype: float64"
      ]
     },
     "execution_count": 34,
     "metadata": {},
     "output_type": "execute_result"
    }
   ],
   "source": [
    "#look at all features\n",
    "importances_rf.sort_values()"
   ]
  },
  {
   "cell_type": "markdown",
   "metadata": {},
   "source": [
    "# Deploy - WPS"
   ]
  },
  {
   "cell_type": "code",
   "execution_count": null,
   "metadata": {},
   "outputs": [],
   "source": [
    "# Save the model as a pickle in a file \n",
    "#joblib.dump(best_model, 'WPS_Non_Text_RF.pkl')"
   ]
  }
 ],
 "metadata": {
  "kernelspec": {
   "display_name": "conda_python3",
   "language": "python",
   "name": "conda_python3"
  },
  "language_info": {
   "codemirror_mode": {
    "name": "ipython",
    "version": 3
   },
   "file_extension": ".py",
   "mimetype": "text/x-python",
   "name": "python",
   "nbconvert_exporter": "python",
   "pygments_lexer": "ipython3",
   "version": "3.6.5"
  }
 },
 "nbformat": 4,
 "nbformat_minor": 2
}
